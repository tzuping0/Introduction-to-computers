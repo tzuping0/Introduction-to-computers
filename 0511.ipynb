{
  "nbformat": 4,
  "nbformat_minor": 0,
  "metadata": {
    "colab": {
      "name": "0511.ipynb",
      "provenance": [],
      "authorship_tag": "ABX9TyMZ9W0oMsRDxfQVzw0wQ/re",
      "include_colab_link": true
    },
    "kernelspec": {
      "name": "python3",
      "display_name": "Python 3"
    },
    "language_info": {
      "name": "python"
    }
  },
  "cells": [
    {
      "cell_type": "markdown",
      "metadata": {
        "id": "view-in-github",
        "colab_type": "text"
      },
      "source": [
        "<a href=\"https://colab.research.google.com/github/tzuping0/Introduction-to-computers/blob/main/0511.ipynb\" target=\"_parent\"><img src=\"https://colab.research.google.com/assets/colab-badge.svg\" alt=\"Open In Colab\"/></a>"
      ]
    },
    {
      "cell_type": "code",
      "execution_count": null,
      "metadata": {
        "colab": {
          "base_uri": "https://localhost:8080/"
        },
        "id": "UwgOAhsThfL0",
        "outputId": "99b5d8b4-ab52-4f81-fd0f-7179729ac0f7"
      },
      "outputs": [
        {
          "output_type": "stream",
          "name": "stdout",
          "text": [
            "test\n"
          ]
        }
      ],
      "source": [
        "print(\"test\")"
      ]
    },
    {
      "cell_type": "code",
      "source": [
        "temp=float(input(\"請輸入你的體溫\"))\n",
        "if temp>=37.5:\n",
        "      print(\"體溫過高!\")\n",
        "elif temp>=37 and temp<37.4:\n",
        "      print(\"體溫略高!\")\n",
        "elif temp>=34 and temp<=36.9:\n",
        "      print(\"體溫正常!\")\n",
        "else:\n",
        "      print(\"體溫異常，請重新量測!\")\n"
      ],
      "metadata": {
        "colab": {
          "base_uri": "https://localhost:8080/"
        },
        "id": "zdq6I1K-iN7K",
        "outputId": "98c12030-9d03-4e8f-c6e5-6ef921682511"
      },
      "execution_count": null,
      "outputs": [
        {
          "output_type": "stream",
          "name": "stdout",
          "text": [
            "請輸入你的體溫37.4\n",
            "體溫異常，請重新量測!\n"
          ]
        }
      ]
    },
    {
      "cell_type": "code",
      "source": [
        "money=int(input(\"請輸入購物金額:\"))\n",
        "if(money>=10000):\n",
        "  if(money>=100000):\n",
        "      print(\"八折\",money*0.8,end=\"元\\n\")\n",
        "  elif(money>=50000):\n",
        "      print(\"八五折\",money*0.85,end=\"元\\n\")\n",
        "  elif(money>=30000):\n",
        "      print(\"九折\",money*0.9,end=\"元\\n\")\n",
        "  else:\n",
        "      print(\"九五折\",money*0.95,end=\"元\\n\")\n",
        "else:\n",
        "  print(\"沒打折\",money,end=\"元\\n\")\n"
      ],
      "metadata": {
        "colab": {
          "base_uri": "https://localhost:8080/"
        },
        "id": "7QAE0GeBlXGn",
        "outputId": "9eace2c3-3e74-4a74-a2aa-e9ae2dc439cd"
      },
      "execution_count": null,
      "outputs": [
        {
          "output_type": "stream",
          "name": "stdout",
          "text": [
            "請輸入購物金額:30000\n",
            "九折 27000.0元\n"
          ]
        }
      ]
    },
    {
      "cell_type": "code",
      "source": [
        "score=int(input(\"請輸入成績:\"))\n",
        "if(score>=90):\n",
        "    print(\"A\")\n",
        "elif(80<=score<=89):\n",
        "    print(\"B\")\n",
        "elif(70<=score<=79):\n",
        "    print(\"C\")\n",
        "elif(60<=score<=69):\n",
        "    print(\"D\")\n",
        "else:\n",
        "    print(\"E\")\n",
        "    "
      ],
      "metadata": {
        "colab": {
          "base_uri": "https://localhost:8080/"
        },
        "id": "nZe6JHG8Fx1m",
        "outputId": "0833eec6-5977-4495-89c9-213ee1904e53"
      },
      "execution_count": 2,
      "outputs": [
        {
          "output_type": "stream",
          "name": "stdout",
          "text": [
            "請輸入成績:90\n",
            "A\n"
          ]
        }
      ]
    },
    {
      "cell_type": "code",
      "source": [
        "score=int(input(\"請輸入成績:\"))\n",
        "if(score>=90):\n",
        "    print(\"A\")\n",
        "elif(80<=score<=89):\n",
        "    print(\"B\")\n",
        "elif(70<=score<=79):\n",
        "    print(\"C\")\n",
        "elif(60<=score<=69):\n",
        "    print(\"D\")\n",
        "else:\n",
        "    print(\"E\")"
      ],
      "metadata": {
        "colab": {
          "base_uri": "https://localhost:8080/"
        },
        "id": "iN1zDsPV5aFw",
        "outputId": "cf084100-fc50-408f-9087-645d2a20e4b4"
      },
      "execution_count": 3,
      "outputs": [
        {
          "output_type": "stream",
          "name": "stdout",
          "text": [
            "請輸入成績:80\n",
            "B\n"
          ]
        }
      ]
    },
    {
      "cell_type": "code",
      "source": [
        "score=int(input(\"請輸入成績:\"))\n",
        "if(score>=90):\n",
        "    print(\"A\")\n",
        "elif(80<=score<=89):\n",
        "    print(\"B\")\n",
        "elif(70<=score<=79):\n",
        "    print(\"C\")\n",
        "elif(60<=score<=69):\n",
        "    print(\"D\")\n",
        "else:\n",
        "    print(\"E\")"
      ],
      "metadata": {
        "colab": {
          "base_uri": "https://localhost:8080/"
        },
        "id": "e7OH_a2t5eVu",
        "outputId": "50369d79-43b3-471f-da02-63a63c731845"
      },
      "execution_count": 4,
      "outputs": [
        {
          "output_type": "stream",
          "name": "stdout",
          "text": [
            "請輸入成績:50\n",
            "E\n"
          ]
        }
      ]
    },
    {
      "cell_type": "code",
      "source": [
        "month=int(input(\"請輸入月份:\"))\n",
        "if (3<=month<=5):\n",
        "    print('%d月是春天!'%(month))\n",
        "elif(6<=month<=8):\n",
        "    print('%d月是夏天!'%(month))\n",
        "elif(9<=month<=11):\n",
        "    print('%d月是秋天!'%(month))\n",
        "elif(month==12 or 1<=month<=2):\n",
        "    print('%d月是冬天!'%(month))\n",
        "\n",
        "else:\n",
        "    print(\"月份不在範圍內!\")"
      ],
      "metadata": {
        "colab": {
          "base_uri": "https://localhost:8080/"
        },
        "id": "q2kd6qCmxjFS",
        "outputId": "834924ec-04b2-42b4-f011-26d79fe0a58a"
      },
      "execution_count": null,
      "outputs": [
        {
          "output_type": "stream",
          "name": "stdout",
          "text": [
            "請輸入月份:6\n",
            "6月是夏天!\n"
          ]
        }
      ]
    },
    {
      "cell_type": "code",
      "source": [
        "money=int(input(\"請輸入今年收入淨額:\"))\n",
        "if(money>=2000000):\n",
        "    print((\"付稅金額為:\"),money*0.3,end=\"元\\n\")\n",
        "elif(money>=1000000):\n",
        "    print((\"付稅金額為:\"),money*0.21,end=\"元\\n\")\n",
        "elif(money>=600000):\n",
        "    print((\"付稅金額為:\"),money*0.13,end=\"元\\n\")\n",
        "elif(money>=300000):\n",
        "    print((\"付稅金額為:\"),money*0.06,end=\"元\\n\")\n",
        "else:\n",
        "    print(\"付稅金額為:0\")\n",
        "\n",
        "\n"
      ],
      "metadata": {
        "colab": {
          "base_uri": "https://localhost:8080/"
        },
        "id": "lruV1-qDX9Su",
        "outputId": "83c9fe48-1c6e-4a0e-b79f-6791ace6a232"
      },
      "execution_count": null,
      "outputs": [
        {
          "output_type": "stream",
          "name": "stdout",
          "text": [
            "請輸入今年收入淨額:100000\n",
            "付稅金額為:0\n"
          ]
        }
      ]
    },
    {
      "cell_type": "code",
      "source": [
        ""
      ],
      "metadata": {
        "id": "ojs8JrjiFS2-"
      },
      "execution_count": null,
      "outputs": []
    }
  ]
}